{
 "cells": [
  {
   "cell_type": "code",
   "execution_count": 1,
   "metadata": {},
   "outputs": [
    {
     "name": "stdout",
     "output_type": "stream",
     "text": [
      "nyan!\n"
     ]
    }
   ],
   "source": [
    "print('nyan!')"
   ]
  },
  {
   "cell_type": "code",
   "execution_count": 4,
   "metadata": {},
   "outputs": [],
   "source": [
    "import pandas as pd\n",
    "import time\n",
    "import re\n",
    "import tweepy\n",
    "import requests\n",
    "from bs4 import BeautifulSoup\n",
    "from types import MappingProxyType\n",
    "import datetime\n",
    "\n",
    "### 定数定義\n",
    "\n",
    "# 2022-23のプレミアリーグ20クラブ\n",
    "EPL_CODE = [\n",
    "    'ブレントフォード','リヴァプール','エヴァートン','ブライトン','レスター','フラム','アーセナル','ニューカッスル',\n",
    "    'マンチェスター・U','ボーンマス','サウサンプトン','フォレスト','リーズ','ウェストハム','アストン・ヴィラ',\n",
    "    'ウルヴァーハンプトン','クリスタル・パレス','トッテナム','チェルシー','マンチェスター・C'\n",
    "]\n",
    "\n",
    "# 曜日（英語 ⇒ 日本語）\n",
    "WEEK_DAYS_DICT: dict = MappingProxyType({\n",
    "        'Mon':'（月）',\n",
    "        'Tue':'（火）',\n",
    "        'Wed':'（水）',\n",
    "        'Thu':'（木）',\n",
    "        'Fri':'（金）',\n",
    "        'Sat':'（土）',\n",
    "        'Sun':'（日）'\n",
    "})"
   ]
  },
  {
   "cell_type": "code",
   "execution_count": 15,
   "metadata": {},
   "outputs": [],
   "source": [
    "def scrapeSportsNaviPage(t_yyyymmdd: str, t_en_week_name: str, y_yyyymmdd: str, y_en_week_name: str):\n",
    "    \"\"\"\n",
    "    SportsNaviより引数で指定された開催日・曜日（英語）より、対戦相手および試合日時を取得する関数。\n",
    "    \"\"\"\n",
    "    print('scrapeSportsNaviPage start')\n",
    "    \n",
    "    # 曜日の英語 ⇒ 日本語へ変換\n",
    "    t_ja_week_name = WEEK_DAYS_DICT.get(t_en_week_name)\n",
    "    y_ja_week_name = WEEK_DAYS_DICT.get(y_en_week_name)\n",
    "    \n",
    "    # 検索キーの作成\n",
    "    t_search_key = str(int(t_yyyymmdd[4:6])) + '/' + str(int(t_yyyymmdd[6:8])) + t_ja_week_name\n",
    "    y_search_key = str(int(y_yyyymmdd[4:6])) + '/' + str(int(y_yyyymmdd[6:8])) + y_ja_week_name\n",
    "\n",
    "    # 対象ページ\n",
    "    url = 'https://soccer.yahoo.co.jp/ws/category/eng'\n",
    "\n",
    "    # スクレイピング\n",
    "    top_r = requests.get(url)\n",
    "\n",
    "    # HTMLを解析する\n",
    "    top_soup = BeautifulSoup(top_r.content, \"html.parser\")\n",
    "\n",
    "    # テーブル情報を取得\n",
    "    td_list = top_soup.find\\\n",
    "            ('table', class_='sc-tableGame').find_all('td')\n",
    "\n",
    "    # 日付\n",
    "    match_datetime_list = []\n",
    "    match_datetime_list_ans = [] #空文字削除後\n",
    "    \n",
    "    # 節\n",
    "    match_kinds_list = []\n",
    "\n",
    "    # チーム\n",
    "    team_name_list = []\n",
    "    \n",
    "    for td in td_list:\n",
    "            # 検索対象の試合日時の場合（00:00～24:00）\n",
    "            # print(td.text)\n",
    "            if t_search_key in td.text:\n",
    "                work_td = td.text.split('\\n')\n",
    "                for name in work_td:\n",
    "                    if re.search(r'(\\d*):(\\d*)', name) is not None:\n",
    "                        match_datetime_list.append(name)\n",
    "                        \n",
    "            # 検索対象の試合日時の場合（24:01～）\n",
    "            if y_search_key in td.text:\n",
    "                work_td = td.text.split('\\n')\n",
    "                for name in work_td:\n",
    "                    if re.search(r'(\\d*):(\\d*)', name) is not None:\n",
    "                        match_datetime_list.append(name)\n",
    "\n",
    "                        \n",
    "            # クラブ名を取得\n",
    "            for num in range(len(EPL_CODE)):\n",
    "                if EPL_CODE[num] in td.text:\n",
    "                    team_name_list.append(EPL_CODE[num])\n",
    "            \n",
    "    # クラブ名リストの空文字を削除\n",
    "    team_name_list = [a for a in team_name_list if a != '']    \n",
    "\n",
    "    print('scrapeSportsNaviPage end')\n",
    "    \n",
    "    for name in match_datetime_list:\n",
    "        #print(name)\n",
    "        name = name.lstrip()\n",
    "        #print(name)\n",
    "        match_datetime_list_ans.append(name)\n",
    "        \n",
    "    match_day_list = []\n",
    "    match_day_list.append(t_search_key)\n",
    "    match_day_list.append(y_search_key)\n",
    "        \n",
    "    return match_day_list, match_datetime_list_ans, team_name_list, ;"
   ]
  },
  {
   "cell_type": "code",
   "execution_count": 16,
   "metadata": {},
   "outputs": [],
   "source": [
    "def createMatchInfoList(match_info_list):\n",
    "    \"\"\"\n",
    "    SportsNaviより取得したmatch_info_listを加工してTwitterで配信する際の文字列を作成する関数。\n",
    "    \"\"\"\n",
    "    print('createMatchInfoList start')\n",
    "    \n",
    "    # ホーム＆アウェーで仕分け\n",
    "    home_team_name_list = []\n",
    "    away_team_name_list = []\n",
    "\n",
    "    # match_info_list[2] = クラブ名\n",
    "    # 奇数番目はホーム・偶数番目はアウェー\n",
    "    for num in range(len(match_info_list[2])):\n",
    "        if num % 2 == 0:\n",
    "            home_team_name_list.append(match_info_list[2][num])\n",
    "        elif num % 2 != 0:\n",
    "            away_team_name_list.append(match_info_list[2][num])\n",
    "    \n",
    "    print('away_team_name_list', away_team_name_list)\n",
    "    print('home_team_name_list', home_team_name_list)\n",
    "        \n",
    "\n",
    "    # 試合時間\n",
    "    match_datetime = []\n",
    "\n",
    "    for num in range(len(match_info_list[1])):\n",
    "        match_datetime.append(match_info_list[1][num])\n",
    "    \n",
    "    print('createMatchInfoList end')\n",
    "    \n",
    "    return match_datetime, home_team_name_list, away_team_name_list"
   ]
  },
  {
   "cell_type": "code",
   "execution_count": null,
   "metadata": {
    "scrolled": true
   },
   "outputs": [],
   "source": [
    "\n"
   ]
  },
  {
   "cell_type": "code",
   "execution_count": 17,
   "metadata": {},
   "outputs": [
    {
     "name": "stdout",
     "output_type": "stream",
     "text": [
      "2023-03-01 22:27:09.640781 20230301 Wed\n"
     ]
    }
   ],
   "source": [
    "# 現在時刻の取得\n",
    "today = datetime.datetime.now() \n",
    "today_yyyymmdd = today.strftime(\"%Y%m%d\")\n",
    "today_yyyymmdd_week = today.strftime(\"%a\")\n",
    "\n",
    "print(today, today_yyyymmdd, today_yyyymmdd_week)"
   ]
  },
  {
   "cell_type": "code",
   "execution_count": 18,
   "metadata": {
    "scrolled": true
   },
   "outputs": [
    {
     "name": "stdout",
     "output_type": "stream",
     "text": [
      "2023-02-28 22:27:09.640781 20230228 Tue\n"
     ]
    }
   ],
   "source": [
    "# 操作後の日付取得\n",
    "yesterday = today + datetime.timedelta(-1)\n",
    "yesterday_yyyymmdd = yesterday.strftime(\"%Y%m%d\")\n",
    "yesterday_yyyymmdd_week = yesterday.strftime(\"%a\")\n",
    "\n",
    "print(yesterday, yesterday_yyyymmdd, yesterday_yyyymmdd_week)"
   ]
  },
  {
   "cell_type": "code",
   "execution_count": 19,
   "metadata": {},
   "outputs": [
    {
     "name": "stdout",
     "output_type": "stream",
     "text": [
      "scrapeSportsNaviPage start\n",
      "scrapeSportsNaviPage end\n",
      "match_info_list (['3/1（水）', '2/28（火）'], ['28:45', '29:00'], ['アーセナル', 'エヴァートン', 'リヴァプール', 'ウルヴァーハンプトン'])\n"
     ]
    }
   ],
   "source": [
    "# 直近のプレミアリーグの試合を取得\n",
    "match_info_list = []\n",
    "match_info_list = scrapeSportsNaviPage(today_yyyymmdd[0:8], today_yyyymmdd_week, yesterday_yyyymmdd[0:8], yesterday_yyyymmdd_week)\n",
    "\n",
    "print('match_info_list', match_info_list)"
   ]
  },
  {
   "cell_type": "code",
   "execution_count": 21,
   "metadata": {},
   "outputs": [
    {
     "name": "stdout",
     "output_type": "stream",
     "text": [
      "createMatchInfoList start\n",
      "away_team_name_list ['エヴァートン', 'ウルヴァーハンプトン']\n",
      "home_team_name_list ['アーセナル', 'リヴァプール']\n",
      "createMatchInfoList end\n",
      "(['28:45', '29:00'], ['アーセナル', 'リヴァプール'], ['エヴァートン', 'ウルヴァーハンプトン'])\n"
     ]
    }
   ],
   "source": [
    "# １試合ずつ配列を作成する\n",
    "match_list = createMatchInfoList(match_info_list)\n",
    "\n",
    "print(match_list)"
   ]
  },
  {
   "cell_type": "code",
   "execution_count": 28,
   "metadata": {},
   "outputs": [],
   "source": [
    "# tweet_bot\n",
    "def _tweetBot(msg : str):\n",
    "    \"\"\"\n",
    "    指定されたメッセージをTwitterする関数。返却値なし　※スレッド機能は後で実施する。parentTweetIDをここで返却する模様。\n",
    "    \"\"\"\n",
    "    # tweetを実施\n",
    "    tweet_response = client.create_tweet(\n",
    "        text=msg\n",
    "    )\n",
    "    print(tweet_response)\n",
    "\n",
    "def createTweetMsg(match_list):\n",
    "    \"\"\"\n",
    "    tweetするメッセージを生成する関数。\n",
    "\n",
    "    Parameters\n",
    "    ----------\n",
    "    match_list\n",
    "        BIG6_listの試合情報\n",
    "    \"\"\"\n",
    "    print('craeteTweetMsg start')\n",
    "    \n",
    "    # match_listが空の場合\n",
    "    if len(match_list) == 0:\n",
    "        text = '今日はプレミアリーグの試合がありません。'\n",
    "        _tweetBot(text)\n",
    "    else:\n",
    "        # トップテキストを用意\n",
    "        top_text = '今日はプレミアリーグ󠁧󠁢が '+ str(len(match_list[0])) + ' 試合あるよ！' +'\\n' + '絶対に見逃すな！' + '\\n\\n'\n",
    "\n",
    "        # 変数を初期化\n",
    "        text = top_text\n",
    "        \n",
    "        # match_listを分解して1行ずつ整理\n",
    "        for num in range(len(match_list[0])):\n",
    "            if int(match_list[0][num][0:2]) >= 24:\n",
    "                match_hour = int(match_list[0][num][0:2]) - 24\n",
    "                match_hour = str(match_hour).zfill(2)\n",
    "                print(match_list[0][num][0:2], match_hour)\n",
    "                match_list[0][num] = str(match_hour) + match_list[0][num][2:5]\n",
    "                print(match_list[0][num])\n",
    "            text += match_list[0][num] + ' ' + match_list[1][num] + ' vs ' + match_list[2][num] + '\\n\\n'\n",
    "\n",
    "        \n",
    "        # ツイートする\n",
    "        print(text)\n",
    "        _tweetBot(text)\n",
    "    \n",
    "    print('craeteTweetMsg end')"
   ]
  },
  {
   "cell_type": "code",
   "execution_count": 29,
   "metadata": {},
   "outputs": [
    {
     "name": "stdout",
     "output_type": "stream",
     "text": [
      "craeteTweetMsg start\n",
      "今日はプレミアリーグ󠁧󠁢が 2 試合あるよ！\n",
      "絶対に見逃すな！\n",
      "\n",
      "04:45 アーセナル vs エヴァートン\n",
      "\n",
      "05:00 リヴァプール vs ウルヴァーハンプトン\n",
      "\n",
      "\n"
     ]
    },
    {
     "ename": "NameError",
     "evalue": "name 'client' is not defined",
     "output_type": "error",
     "traceback": [
      "\u001b[0;31m---------------------------------------------------------------------------\u001b[0m",
      "\u001b[0;31mNameError\u001b[0m                                 Traceback (most recent call last)",
      "Cell \u001b[0;32mIn[29], line 1\u001b[0m\n\u001b[0;32m----> 1\u001b[0m MSG \u001b[38;5;241m=\u001b[39m \u001b[43mcreateTweetMsg\u001b[49m\u001b[43m(\u001b[49m\u001b[43mmatch_list\u001b[49m\u001b[43m)\u001b[49m\n",
      "Cell \u001b[0;32mIn[28], line 47\u001b[0m, in \u001b[0;36mcreateTweetMsg\u001b[0;34m(match_list)\u001b[0m\n\u001b[1;32m     45\u001b[0m     \u001b[38;5;66;03m# ツイートする\u001b[39;00m\n\u001b[1;32m     46\u001b[0m     \u001b[38;5;28mprint\u001b[39m(text)\n\u001b[0;32m---> 47\u001b[0m     \u001b[43m_tweetBot\u001b[49m\u001b[43m(\u001b[49m\u001b[43mtext\u001b[49m\u001b[43m)\u001b[49m\n\u001b[1;32m     49\u001b[0m \u001b[38;5;28mprint\u001b[39m(\u001b[38;5;124m'\u001b[39m\u001b[38;5;124mcraeteTweetMsg end\u001b[39m\u001b[38;5;124m'\u001b[39m)\n",
      "Cell \u001b[0;32mIn[28], line 7\u001b[0m, in \u001b[0;36m_tweetBot\u001b[0;34m(msg)\u001b[0m\n\u001b[1;32m      3\u001b[0m \u001b[38;5;124;03m\"\"\"\u001b[39;00m\n\u001b[1;32m      4\u001b[0m \u001b[38;5;124;03m指定されたメッセージをTwitterする関数。返却値なし　※スレッド機能は後で実施する。parentTweetIDをここで返却する模様。\u001b[39;00m\n\u001b[1;32m      5\u001b[0m \u001b[38;5;124;03m\"\"\"\u001b[39;00m\n\u001b[1;32m      6\u001b[0m \u001b[38;5;66;03m# tweetを実施\u001b[39;00m\n\u001b[0;32m----> 7\u001b[0m tweet_response \u001b[38;5;241m=\u001b[39m \u001b[43mclient\u001b[49m\u001b[38;5;241m.\u001b[39mcreate_tweet(\n\u001b[1;32m      8\u001b[0m     text\u001b[38;5;241m=\u001b[39mmsg\n\u001b[1;32m      9\u001b[0m )\n\u001b[1;32m     10\u001b[0m \u001b[38;5;28mprint\u001b[39m(tweet_response)\n",
      "\u001b[0;31mNameError\u001b[0m: name 'client' is not defined"
     ]
    }
   ],
   "source": [
    "MSG = createTweetMsg(match_list)"
   ]
  },
  {
   "cell_type": "code",
   "execution_count": null,
   "metadata": {},
   "outputs": [],
   "source": []
  },
  {
   "cell_type": "code",
   "execution_count": null,
   "metadata": {},
   "outputs": [],
   "source": []
  },
  {
   "cell_type": "code",
   "execution_count": null,
   "metadata": {},
   "outputs": [],
   "source": []
  },
  {
   "cell_type": "code",
   "execution_count": null,
   "metadata": {},
   "outputs": [],
   "source": []
  },
  {
   "cell_type": "code",
   "execution_count": null,
   "metadata": {},
   "outputs": [],
   "source": []
  },
  {
   "cell_type": "code",
   "execution_count": null,
   "metadata": {},
   "outputs": [],
   "source": []
  },
  {
   "cell_type": "code",
   "execution_count": null,
   "metadata": {},
   "outputs": [],
   "source": []
  }
 ],
 "metadata": {
  "kernelspec": {
   "display_name": "Python 3 (ipykernel)",
   "language": "python",
   "name": "python3"
  },
  "language_info": {
   "codemirror_mode": {
    "name": "ipython",
    "version": 3
   },
   "file_extension": ".py",
   "mimetype": "text/x-python",
   "name": "python",
   "nbconvert_exporter": "python",
   "pygments_lexer": "ipython3",
   "version": "3.8.10"
  }
 },
 "nbformat": 4,
 "nbformat_minor": 5
}
