{
 "cells": [
  {
   "cell_type": "code",
   "execution_count": 11,
   "metadata": {},
   "outputs": [
    {
     "name": "stdout",
     "output_type": "stream",
     "text": [
      "gundogan8!!!!\n"
     ]
    }
   ],
   "source": [
    "print('gundogan8!!!!')"
   ]
  },
  {
   "cell_type": "code",
   "execution_count": 12,
   "metadata": {},
   "outputs": [],
   "source": [
    "import pandas as pd\n",
    "import time\n",
    "import re\n",
    "import tweepy\n",
    "import requests\n",
    "from bs4 import BeautifulSoup\n",
    "from types import MappingProxyType\n",
    "import datetime"
   ]
  },
  {
   "cell_type": "code",
   "execution_count": 13,
   "metadata": {},
   "outputs": [
    {
     "name": "stdout",
     "output_type": "stream",
     "text": [
      "2023-01-04 00:19:37.015341 20230104 Wed\n"
     ]
    }
   ],
   "source": [
    "nowaday = datetime.datetime.now() # 現在時刻の取得\n",
    "yyyymmdd = nowaday.strftime(\"%Y%m%d\")\n",
    "yyyymmdd_week = nowaday.strftime(\"%a\")\n",
    "\n",
    "print(nowaday, yyyymmdd, yyyymmdd_week)"
   ]
  },
  {
   "cell_type": "code",
   "execution_count": 14,
   "metadata": {},
   "outputs": [
    {
     "name": "stdout",
     "output_type": "stream",
     "text": [
      "2023-01-05 00:19:37.015341 20230105 Thu\n"
     ]
    }
   ],
   "source": [
    "tomorrow = nowaday + datetime.timedelta(1) # 操作後の日付取得\n",
    "yyyymmdd = tomorrow.strftime(\"%Y%m%d\")\n",
    "yyyymmdd_week = tomorrow.strftime(\"%a\")\n",
    "\n",
    "print(tomorrow, yyyymmdd, yyyymmdd_week)"
   ]
  },
  {
   "cell_type": "code",
   "execution_count": 42,
   "metadata": {},
   "outputs": [],
   "source": [
    "# 試合日程を入れるリスト\n",
    "match_day_list = []\n",
    "\n",
    "# スクレイピング対象のURL\n",
    "url = 'https://www.fotmob.com/teams/8456/fixtures/manchester-city'\n",
    "\n",
    "# スクレイピング\n",
    "top_r = requests.get(url)\n",
    "\n",
    "# HTMLを解析する\n",
    "top_soup = BeautifulSoup(top_r.content, \"html.parser\")\n",
    "# print(top_soup)"
   ]
  },
  {
   "cell_type": "code",
   "execution_count": 29,
   "metadata": {
    "scrolled": true
   },
   "outputs": [],
   "source": [
    "# 使えないけど有効\n",
    "links = [url.get('href') for url in top_soup.find_all('a')]\n",
    "# print(links)\n",
    "\n",
    "# anckerタグを抽出\n",
    "# date_list = top_soup.find('/match/3901068/matchfacts/leicester-city-vs-manchester-city')\n"
   ]
  },
  {
   "cell_type": "code",
   "execution_count": null,
   "metadata": {},
   "outputs": [],
   "source": [
    "# print(date_list)"
   ]
  },
  {
   "cell_type": "code",
   "execution_count": 31,
   "metadata": {},
   "outputs": [
    {
     "name": "stdout",
     "output_type": "stream",
     "text": [
      "None\n"
     ]
    }
   ],
   "source": [
    "list = top_soup.find\\\n",
    "        ('div', class_='css-mq7mn-Man City e7pc1841')\n",
    "\n",
    "# list = top_soup.find\\\n",
    "#         ('div', class_='css-mq7mn-Group e7pc1841').find_all('td')\n",
    "\n",
    "print(list)\n"
   ]
  },
  {
   "cell_type": "code",
   "execution_count": 34,
   "metadata": {},
   "outputs": [],
   "source": [
    "test = top_soup.find_all('div')\n",
    "# print(test)"
   ]
  },
  {
   "cell_type": "code",
   "execution_count": 41,
   "metadata": {},
   "outputs": [],
   "source": [
    "test = top_soup.find(text=re.compile(r'\"/match/.*$'))\n",
    "# print(test)"
   ]
  },
  {
   "cell_type": "code",
   "execution_count": 40,
   "metadata": {},
   "outputs": [],
   "source": [
    "# 整理"
   ]
  },
  {
   "cell_type": "code",
   "execution_count": 2,
   "metadata": {},
   "outputs": [],
   "source": [
    "# やってみよう\n",
    "# https://github.com/gundogan8/FotBot/issues/31"
   ]
  },
  {
   "cell_type": "code",
   "execution_count": 6,
   "metadata": {},
   "outputs": [
    {
     "name": "stdout",
     "output_type": "stream",
     "text": [
      "4/22（土）\n"
     ]
    },
    {
     "data": {
      "text/html": [
       "<div>\n",
       "<style scoped>\n",
       "    .dataframe tbody tr th:only-of-type {\n",
       "        vertical-align: middle;\n",
       "    }\n",
       "\n",
       "    .dataframe tbody tr th {\n",
       "        vertical-align: top;\n",
       "    }\n",
       "\n",
       "    .dataframe thead th {\n",
       "        text-align: right;\n",
       "    }\n",
       "</style>\n",
       "<table border=\"1\" class=\"dataframe\">\n",
       "  <thead>\n",
       "    <tr style=\"text-align: right;\">\n",
       "      <th></th>\n",
       "      <th>日時</th>\n",
       "      <th>種別</th>\n",
       "      <th>ホーム</th>\n",
       "      <th>スコア</th>\n",
       "      <th>アウェイ</th>\n",
       "    </tr>\n",
       "  </thead>\n",
       "  <tbody>\n",
       "    <tr>\n",
       "      <th>1</th>\n",
       "      <td>4/22（土）  20:30</td>\n",
       "      <td>第32節</td>\n",
       "      <td>フラム</td>\n",
       "      <td>- 対戦データ</td>\n",
       "      <td>リーズ</td>\n",
       "    </tr>\n",
       "    <tr>\n",
       "      <th>2</th>\n",
       "      <td>4/22（土）  23:00</td>\n",
       "      <td>第32節</td>\n",
       "      <td>ブレントフォード</td>\n",
       "      <td>- 対戦データ</td>\n",
       "      <td>アストン・ヴィラ</td>\n",
       "    </tr>\n",
       "    <tr>\n",
       "      <th>3</th>\n",
       "      <td>4/22（土）  23:00</td>\n",
       "      <td>第32節</td>\n",
       "      <td>クリスタル・パレス</td>\n",
       "      <td>- 対戦データ</td>\n",
       "      <td>エヴァートン</td>\n",
       "    </tr>\n",
       "    <tr>\n",
       "      <th>4</th>\n",
       "      <td>4/22（土）  23:00</td>\n",
       "      <td>第32節</td>\n",
       "      <td>レスター</td>\n",
       "      <td>- 対戦データ</td>\n",
       "      <td>ウルヴァーハンプトン</td>\n",
       "    </tr>\n",
       "    <tr>\n",
       "      <th>5</th>\n",
       "      <td>4/22（土）  23:00</td>\n",
       "      <td>第32節</td>\n",
       "      <td>リヴァプール</td>\n",
       "      <td>- 対戦データ</td>\n",
       "      <td>フォレスト</td>\n",
       "    </tr>\n",
       "    <tr>\n",
       "      <th>6</th>\n",
       "      <td>4/22（土）  25:30</td>\n",
       "      <td>第32節</td>\n",
       "      <td>マンチェスター・U</td>\n",
       "      <td>- 試合中止</td>\n",
       "      <td>チェルシー</td>\n",
       "    </tr>\n",
       "  </tbody>\n",
       "</table>\n",
       "</div>"
      ],
      "text/plain": [
       "               日時    種別        ホーム      スコア        アウェイ\n",
       "1  4/22（土）  20:30  第32節        フラム  - 対戦データ         リーズ\n",
       "2  4/22（土）  23:00  第32節   ブレントフォード  - 対戦データ    アストン・ヴィラ\n",
       "3  4/22（土）  23:00  第32節  クリスタル・パレス  - 対戦データ      エヴァートン\n",
       "4  4/22（土）  23:00  第32節       レスター  - 対戦データ  ウルヴァーハンプトン\n",
       "5  4/22（土）  23:00  第32節     リヴァプール  - 対戦データ       フォレスト\n",
       "6  4/22（土）  25:30  第32節  マンチェスター・U   - 試合中止       チェルシー"
      ]
     },
     "execution_count": 6,
     "metadata": {},
     "output_type": "execute_result"
    }
   ],
   "source": [
    "import pandas as pd\n",
    "from urllib.request import urlopen\n",
    "\n",
    "def scrapeSportsNaviPage(search_word: str):\n",
    "\n",
    "    # 対象ページ\n",
    "    # url = 'https://soccer.yahoo.co.jp/ws/category/eng'\n",
    "    url = 'https://soccer.yahoo.co.jp/ws/category/eng/schedule/202205201/32/?gk=52'\n",
    "\n",
    "    # スクレイピング\n",
    "    html = urlopen(url).read().decode('utf-8')\n",
    "\n",
    "    df = pd.read_html(html)[0]\n",
    "\n",
    "    print(search_word)\n",
    "\n",
    "    # 検索日付に絞る\n",
    "    df = df[df['日時'].str.startswith(search_word)]\n",
    "\n",
    "    return df\n",
    "\n",
    "df2 = scrapeSportsNaviPage('4/22（土）')\n",
    "df2"
   ]
  },
  {
   "cell_type": "code",
   "execution_count": 5,
   "metadata": {},
   "outputs": [
    {
     "name": "stdout",
     "output_type": "stream",
     "text": [
      "  20:30フラム VS リーズの試合がはじまるよ\n",
      "  23:00ブレントフォード VS アストン・ヴィラの試合がはじまるよ\n",
      "  23:00クリスタル・パレス VS エヴァートンの試合がはじまるよ\n",
      "  23:00レスター VS ウルヴァーハンプトンの試合がはじまるよ\n",
      "  23:00リヴァプール VS フォレストの試合がはじまるよ\n",
      "  25:30マンチェスター・U VS チェルシーの試合がはじまるよ\n"
     ]
    }
   ],
   "source": [
    "def tweetMSG(df: pd.DataFrame):\n",
    "    for index, row in df.iterrows():\n",
    "        print(str(row['日時']).split('）')[1] + row['ホーム'] + ' VS ' + row['アウェイ'] + 'の試合がはじまるよ')\n",
    "    return\n",
    "\n",
    "tweetMSG(df2)"
   ]
  },
  {
   "cell_type": "code",
   "execution_count": 3,
   "metadata": {},
   "outputs": [
    {
     "name": "stdout",
     "output_type": "stream",
     "text": [
      "4/22（土）\n",
      "[]\n",
      "今日の試合はありません\n"
     ]
    }
   ],
   "source": [
    "from bs4 import BeautifulSoup\n",
    "import pandas as pd\n",
    "from urllib.request import urlopen\n",
    "\n",
    "URL = 'https://soccer.yahoo.co.jp/ws/category/eng/schedule/202205201/32/?gk=52'\n",
    "\n",
    "def scrapeSportsNaviPage(search_word: str):\n",
    "    print(search_word)\n",
    "    df = pd.DataFrame()\n",
    "    # スクレイピング\n",
    "    html = urlopen(URL).read().decode('utf-8')\n",
    "    top_soup = BeautifulSoup(html, 'html.parser')\n",
    "    # リーグ情報を取得\n",
    "    tag_list = top_soup.find_all(class_='sc-head03__title')\n",
    "    print(tag_list)\n",
    "    loop_count = 0\n",
    "    for tag in tag_list:\n",
    "        print(tag.text)\n",
    "        if 'プレミアリーグ' == tag.text:\n",
    "            df = pd.read_html(html)[loop_count]\n",
    "            # 検索日付に絞る\n",
    "            df = df[df['日時'].str.startswith(search_word)]\n",
    "            break\n",
    "        loop_count += 1\n",
    "    return df\n",
    "\n",
    "def tweetMSG(df: pd.DataFrame):\n",
    "    if df.empty:\n",
    "        print('今日の試合はありません')\n",
    "    else:\n",
    "        print('今日はプレミアリーグが ' +  str(len(df))  + ' 試合あるよ！⚽')\n",
    "        print('絶対に見逃すな！')\n",
    "        for index, row in df.iterrows():\n",
    "            print(str(row['日時']).split('）')[1] + ' ' + row['ホーム'] + ' vs ' + row['アウェイ'])\n",
    "    return\n",
    "\n",
    "df = scrapeSportsNaviPage('4/22（土）')\n",
    "\n",
    "tweetMSG(df)"
   ]
  },
  {
   "cell_type": "code",
   "execution_count": null,
   "metadata": {},
   "outputs": [],
   "source": []
  }
 ],
 "metadata": {
  "kernelspec": {
   "display_name": "Python 3 (ipykernel)",
   "language": "python",
   "name": "python3"
  },
  "language_info": {
   "codemirror_mode": {
    "name": "ipython",
    "version": 3
   },
   "file_extension": ".py",
   "mimetype": "text/x-python",
   "name": "python",
   "nbconvert_exporter": "python",
   "pygments_lexer": "ipython3",
   "version": "3.8.10"
  }
 },
 "nbformat": 4,
 "nbformat_minor": 4
}
