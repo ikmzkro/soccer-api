{
 "cells": [
  {
   "cell_type": "code",
   "execution_count": 10,
   "id": "9984b1c4",
   "metadata": {},
   "outputs": [],
   "source": [
    "import pandas as pd\n",
    "import time\n",
    "import re\n",
    "import tweepy\n",
    "import requests\n",
    "from bs4 import BeautifulSoup\n",
    "from types import MappingProxyType\n",
    "import datetime\n",
    "import math\n",
    "import random\n",
    "\n",
    "\n",
    "# 2022-23のプレミアリーグクラブ別トップスコアラー（英語 ⇒ 選手詳細URL）\n",
    "EPL_TOP_TEAM_SCORER_DICT: dict = MappingProxyType({\n",
    "        'Erling Haaland':'https://fbref.com/en/players/1f44ac21/goallogs/dom_lg/Erling-Haaland-Goal-Log',\n",
    "})"
   ]
  },
  {
   "cell_type": "code",
   "execution_count": 11,
   "id": "e1a89c52",
   "metadata": {},
   "outputs": [],
   "source": [
    "def scrapeFbrefHomePage():\n",
    "    df = pd.DataFrame()\n",
    "\n",
    "    # 1秒スリープ\n",
    "    time.sleep(1)\n",
    "\n",
    "    # スクレイピング対象のURLを生成する\n",
    "    url = 'https://fbref.com/en/comps/9/Premier-League-Stats'\n",
    "    df = pd.read_html(url)[0]\n",
    "    \n",
    "    # マルチインデックスを解消する\n",
    "    df = df.T.reset_index(level=0, drop=True).T\n",
    "    html = requests.get(url)\n",
    "    html.encoding = \"EUC-JP\"\n",
    "    \n",
    "    # HTMLを解析する\n",
    "    soup = BeautifulSoup(html.text, \"lxml\")\n",
    "    \n",
    "    # リーグ順位欄と最多得点者を表示する\n",
    "    df = df.drop([13,14,15,16,18,19], axis=1)\n",
    "    \n",
    "    # Top Team Scorer\n",
    "    top_team_scorer_list = []\n",
    "    for num in range(len(df[17])):\n",
    "        top_team_scorer_list.append(df[17][num])\n",
    "    \n",
    "    \n",
    "    return df, top_team_scorer_list"
   ]
  },
  {
   "cell_type": "code",
   "execution_count": 12,
   "id": "109585ef",
   "metadata": {},
   "outputs": [],
   "source": [
    "fbrefClubResult = scrapeFbrefHomePage()"
   ]
  },
  {
   "cell_type": "code",
   "execution_count": 13,
   "id": "e86403fa",
   "metadata": {},
   "outputs": [],
   "source": [
    "def scrapeFbrefPlayerPage():\n",
    "    df_player = pd.DataFrame()\n",
    "\n",
    "    # 1秒スリープ\n",
    "    time.sleep(1)\n",
    "\n",
    "    # スクレイピング対象のURLを生成する\n",
    "    url = 'https://fbref.com/en/players/1f44ac21/goallogs/dom_lg/Erling-Haaland-Goal-Log'\n",
    "    df_player = pd.read_html(url)[0]\n",
    "    \n",
    "    # マルチインデックスを解消する\n",
    "    df_player = df_player.T.reset_index(level=0, drop=True).T\n",
    "    html = requests.get(url)\n",
    "    html.encoding = \"EUC-JP\"\n",
    "    \n",
    "    # HTMLを解析する\n",
    "    soup = BeautifulSoup(html.text, \"lxml\")\n",
    "    \n",
    "    # クラブ名を補完していく\n",
    "    score_club_list = []\n",
    "    for num in range(21): # 選手横の数値\n",
    "        score_club_list.append(df_player[6][num])\n",
    "    print(score_club_list)\n",
    "        \n",
    "    return score_club_list;"
   ]
  },
  {
   "cell_type": "code",
   "execution_count": 14,
   "id": "7863f044",
   "metadata": {},
   "outputs": [
    {
     "name": "stdout",
     "output_type": "stream",
     "text": [
      "['Everton', 'Leeds United', 'Leeds United', 'Fulham', 'Brighton', 'Brighton', 'Southampton', 'Manchester Utd', 'Manchester Utd', 'Manchester Utd', 'Wolves', 'Aston Villa', \"Nott'ham Forest\", \"Nott'ham Forest\", \"Nott'ham Forest\", 'Crystal Palace', 'Crystal Palace', 'Crystal Palace', 'Newcastle Utd', 'West Ham', 'West Ham']\n"
     ]
    }
   ],
   "source": [
    "fbrefPlayerResult = scrapeFbrefPlayerPage()"
   ]
  },
  {
   "cell_type": "code",
   "execution_count": null,
   "id": "fa9fa605",
   "metadata": {},
   "outputs": [],
   "source": [
    "# 色を変える関数を作成\n",
    "## fbrefPlayerResultの要素数に応じてreturnするCSSを変える\n",
    "## 列でクラブ名の文字列に一致するところだけ色を変えるように指定する"
   ]
  }
 ],
 "metadata": {
  "kernelspec": {
   "display_name": "Python 3 (ipykernel)",
   "language": "python",
   "name": "python3"
  },
  "language_info": {
   "codemirror_mode": {
    "name": "ipython",
    "version": 3
   },
   "file_extension": ".py",
   "mimetype": "text/x-python",
   "name": "python",
   "nbconvert_exporter": "python",
   "pygments_lexer": "ipython3",
   "version": "3.9.13"
  }
 },
 "nbformat": 4,
 "nbformat_minor": 5
}
