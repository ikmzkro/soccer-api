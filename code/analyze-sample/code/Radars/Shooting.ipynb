{
 "cells": [
  {
   "cell_type": "code",
   "execution_count": 11,
   "metadata": {},
   "outputs": [],
   "source": [
    "import pandas as pd\n",
    "import matplotlib.pyplot as plt\n",
    "from soccerplots.radar_chart import Radar"
   ]
  },
  {
   "cell_type": "code",
   "execution_count": 12,
   "metadata": {},
   "outputs": [],
   "source": [
    "#read in the data\n",
    "df = pd.read_csv('../../data/city_Shooting.csv')"
   ]
  },
  {
   "cell_type": "code",
   "execution_count": 13,
   "metadata": {},
   "outputs": [
    {
     "data": {
      "text/html": [
       "<div>\n",
       "<style scoped>\n",
       "    .dataframe tbody tr th:only-of-type {\n",
       "        vertical-align: middle;\n",
       "    }\n",
       "\n",
       "    .dataframe tbody tr th {\n",
       "        vertical-align: top;\n",
       "    }\n",
       "\n",
       "    .dataframe thead th {\n",
       "        text-align: right;\n",
       "    }\n",
       "</style>\n",
       "<table border=\"1\" class=\"dataframe\">\n",
       "  <thead>\n",
       "    <tr style=\"text-align: right;\">\n",
       "      <th></th>\n",
       "      <th>Player</th>\n",
       "      <th>Nation</th>\n",
       "      <th>Pos</th>\n",
       "      <th>Age</th>\n",
       "      <th>90s</th>\n",
       "      <th>Gls</th>\n",
       "      <th>Sh</th>\n",
       "      <th>SoT</th>\n",
       "      <th>SoT%</th>\n",
       "      <th>Sh/90</th>\n",
       "      <th>...</th>\n",
       "      <th>Dist</th>\n",
       "      <th>FK</th>\n",
       "      <th>PK</th>\n",
       "      <th>PKatt</th>\n",
       "      <th>xG</th>\n",
       "      <th>npxG</th>\n",
       "      <th>npxG/Sh</th>\n",
       "      <th>G-xG</th>\n",
       "      <th>np:G-xG</th>\n",
       "      <th>Matches</th>\n",
       "    </tr>\n",
       "  </thead>\n",
       "  <tbody>\n",
       "    <tr>\n",
       "      <th>0</th>\n",
       "      <td>Ederson</td>\n",
       "      <td>br BRA</td>\n",
       "      <td>GK</td>\n",
       "      <td>29-053</td>\n",
       "      <td>9.0</td>\n",
       "      <td>0</td>\n",
       "      <td>0</td>\n",
       "      <td>0</td>\n",
       "      <td>NaN</td>\n",
       "      <td>0.00</td>\n",
       "      <td>...</td>\n",
       "      <td>NaN</td>\n",
       "      <td>0</td>\n",
       "      <td>0</td>\n",
       "      <td>0</td>\n",
       "      <td>0.0</td>\n",
       "      <td>0.0</td>\n",
       "      <td>NaN</td>\n",
       "      <td>0.0</td>\n",
       "      <td>0.0</td>\n",
       "      <td>Matches</td>\n",
       "    </tr>\n",
       "    <tr>\n",
       "      <th>1</th>\n",
       "      <td>Erling Haaland</td>\n",
       "      <td>no NOR</td>\n",
       "      <td>FW</td>\n",
       "      <td>22-080</td>\n",
       "      <td>8.3</td>\n",
       "      <td>15</td>\n",
       "      <td>38</td>\n",
       "      <td>20</td>\n",
       "      <td>52.6</td>\n",
       "      <td>4.55</td>\n",
       "      <td>...</td>\n",
       "      <td>10.9</td>\n",
       "      <td>0</td>\n",
       "      <td>1</td>\n",
       "      <td>1</td>\n",
       "      <td>9.0</td>\n",
       "      <td>8.2</td>\n",
       "      <td>0.22</td>\n",
       "      <td>6.0</td>\n",
       "      <td>5.8</td>\n",
       "      <td>Matches</td>\n",
       "    </tr>\n",
       "    <tr>\n",
       "      <th>2</th>\n",
       "      <td>João Cancelo</td>\n",
       "      <td>pt POR</td>\n",
       "      <td>DF</td>\n",
       "      <td>28-135</td>\n",
       "      <td>8.2</td>\n",
       "      <td>2</td>\n",
       "      <td>9</td>\n",
       "      <td>2</td>\n",
       "      <td>22.2</td>\n",
       "      <td>1.10</td>\n",
       "      <td>...</td>\n",
       "      <td>22.3</td>\n",
       "      <td>0</td>\n",
       "      <td>0</td>\n",
       "      <td>0</td>\n",
       "      <td>0.3</td>\n",
       "      <td>0.3</td>\n",
       "      <td>0.04</td>\n",
       "      <td>1.7</td>\n",
       "      <td>1.7</td>\n",
       "      <td>Matches</td>\n",
       "    </tr>\n",
       "    <tr>\n",
       "      <th>3</th>\n",
       "      <td>Phil Foden</td>\n",
       "      <td>eng ENG</td>\n",
       "      <td>FW</td>\n",
       "      <td>22-134</td>\n",
       "      <td>7.3</td>\n",
       "      <td>6</td>\n",
       "      <td>20</td>\n",
       "      <td>12</td>\n",
       "      <td>60.0</td>\n",
       "      <td>2.74</td>\n",
       "      <td>...</td>\n",
       "      <td>12.1</td>\n",
       "      <td>0</td>\n",
       "      <td>0</td>\n",
       "      <td>0</td>\n",
       "      <td>3.5</td>\n",
       "      <td>3.5</td>\n",
       "      <td>0.17</td>\n",
       "      <td>2.5</td>\n",
       "      <td>2.5</td>\n",
       "      <td>Matches</td>\n",
       "    </tr>\n",
       "    <tr>\n",
       "      <th>4</th>\n",
       "      <td>Kevin De Bruyne</td>\n",
       "      <td>be BEL</td>\n",
       "      <td>MF</td>\n",
       "      <td>31-103</td>\n",
       "      <td>7.6</td>\n",
       "      <td>1</td>\n",
       "      <td>22</td>\n",
       "      <td>7</td>\n",
       "      <td>31.8</td>\n",
       "      <td>2.91</td>\n",
       "      <td>...</td>\n",
       "      <td>20.9</td>\n",
       "      <td>2</td>\n",
       "      <td>0</td>\n",
       "      <td>0</td>\n",
       "      <td>1.5</td>\n",
       "      <td>1.5</td>\n",
       "      <td>0.07</td>\n",
       "      <td>-0.5</td>\n",
       "      <td>-0.5</td>\n",
       "      <td>Matches</td>\n",
       "    </tr>\n",
       "  </tbody>\n",
       "</table>\n",
       "<p>5 rows × 23 columns</p>\n",
       "</div>"
      ],
      "text/plain": [
       "            Player   Nation Pos     Age  90s  Gls  Sh  SoT  SoT%  Sh/90  ...  \\\n",
       "0          Ederson   br BRA  GK  29-053  9.0    0   0    0   NaN   0.00  ...   \n",
       "1   Erling Haaland   no NOR  FW  22-080  8.3   15  38   20  52.6   4.55  ...   \n",
       "2     João Cancelo   pt POR  DF  28-135  8.2    2   9    2  22.2   1.10  ...   \n",
       "3       Phil Foden  eng ENG  FW  22-134  7.3    6  20   12  60.0   2.74  ...   \n",
       "4  Kevin De Bruyne   be BEL  MF  31-103  7.6    1  22    7  31.8   2.91  ...   \n",
       "\n",
       "   Dist  FK  PK  PKatt   xG  npxG  npxG/Sh  G-xG  np:G-xG  Matches  \n",
       "0   NaN   0   0      0  0.0   0.0      NaN   0.0      0.0  Matches  \n",
       "1  10.9   0   1      1  9.0   8.2     0.22   6.0      5.8  Matches  \n",
       "2  22.3   0   0      0  0.3   0.3     0.04   1.7      1.7  Matches  \n",
       "3  12.1   0   0      0  3.5   3.5     0.17   2.5      2.5  Matches  \n",
       "4  20.9   2   0      0  1.5   1.5     0.07  -0.5     -0.5  Matches  \n",
       "\n",
       "[5 rows x 23 columns]"
      ]
     },
     "execution_count": 13,
     "metadata": {},
     "output_type": "execute_result"
    }
   ],
   "source": [
    "df.head()"
   ]
  },
  {
   "cell_type": "code",
   "execution_count": 14,
   "metadata": {},
   "outputs": [],
   "source": [
    "df['Player'] = df['Player'].str.split('\\\\',expand=True)[0]"
   ]
  },
  {
   "cell_type": "code",
   "execution_count": 15,
   "metadata": {},
   "outputs": [
    {
     "data": {
      "text/plain": [
       "array(['Ederson', 'Erling Haaland', 'João Cancelo', 'Phil Foden',\n",
       "       'Kevin De Bruyne', 'Rodri', 'Rúben Dias', 'Bernardo Silva',\n",
       "       'Kyle Walker', 'İlkay Gündoğan', 'John Stones', 'Nathan Aké',\n",
       "       'Jack Grealish', 'Riyad Mahrez', 'Manuel Akanji', 'Julián Álvarez',\n",
       "       'Sergio Gómez', 'Cole Palmer', 'Rico Lewis', 'Aymeric Laporte',\n",
       "       'Kalvin Phillips'], dtype=object)"
      ]
     },
     "execution_count": 15,
     "metadata": {},
     "output_type": "execute_result"
    }
   ],
   "source": [
    "df.Player.unique()"
   ]
  },
  {
   "cell_type": "code",
   "execution_count": 16,
   "metadata": {},
   "outputs": [],
   "source": [
    "df = df[(df['Player']=='Jack Grealish')].reset_index()"
   ]
  },
  {
   "cell_type": "code",
   "execution_count": 17,
   "metadata": {},
   "outputs": [
    {
     "data": {
      "text/html": [
       "<div>\n",
       "<style scoped>\n",
       "    .dataframe tbody tr th:only-of-type {\n",
       "        vertical-align: middle;\n",
       "    }\n",
       "\n",
       "    .dataframe tbody tr th {\n",
       "        vertical-align: top;\n",
       "    }\n",
       "\n",
       "    .dataframe thead th {\n",
       "        text-align: right;\n",
       "    }\n",
       "</style>\n",
       "<table border=\"1\" class=\"dataframe\">\n",
       "  <thead>\n",
       "    <tr style=\"text-align: right;\">\n",
       "      <th></th>\n",
       "      <th>index</th>\n",
       "      <th>Player</th>\n",
       "      <th>Nation</th>\n",
       "      <th>Pos</th>\n",
       "      <th>Age</th>\n",
       "      <th>90s</th>\n",
       "      <th>Gls</th>\n",
       "      <th>Sh</th>\n",
       "      <th>SoT</th>\n",
       "      <th>SoT%</th>\n",
       "      <th>...</th>\n",
       "      <th>Dist</th>\n",
       "      <th>FK</th>\n",
       "      <th>PK</th>\n",
       "      <th>PKatt</th>\n",
       "      <th>xG</th>\n",
       "      <th>npxG</th>\n",
       "      <th>npxG/Sh</th>\n",
       "      <th>G-xG</th>\n",
       "      <th>np:G-xG</th>\n",
       "      <th>Matches</th>\n",
       "    </tr>\n",
       "  </thead>\n",
       "  <tbody>\n",
       "    <tr>\n",
       "      <th>0</th>\n",
       "      <td>12</td>\n",
       "      <td>Jack Grealish</td>\n",
       "      <td>eng ENG</td>\n",
       "      <td>FW</td>\n",
       "      <td>27-029</td>\n",
       "      <td>3.5</td>\n",
       "      <td>1</td>\n",
       "      <td>5</td>\n",
       "      <td>2</td>\n",
       "      <td>40.0</td>\n",
       "      <td>...</td>\n",
       "      <td>14.2</td>\n",
       "      <td>0</td>\n",
       "      <td>0</td>\n",
       "      <td>0</td>\n",
       "      <td>0.8</td>\n",
       "      <td>0.8</td>\n",
       "      <td>0.16</td>\n",
       "      <td>0.2</td>\n",
       "      <td>0.2</td>\n",
       "      <td>Matches</td>\n",
       "    </tr>\n",
       "  </tbody>\n",
       "</table>\n",
       "<p>1 rows × 24 columns</p>\n",
       "</div>"
      ],
      "text/plain": [
       "   index         Player   Nation Pos     Age  90s  Gls  Sh  SoT  SoT%  ...  \\\n",
       "0     12  Jack Grealish  eng ENG  FW  27-029  3.5    1   5    2  40.0  ...   \n",
       "\n",
       "   Dist  FK  PK  PKatt   xG  npxG  npxG/Sh  G-xG  np:G-xG  Matches  \n",
       "0  14.2   0   0      0  0.8   0.8     0.16   0.2      0.2  Matches  \n",
       "\n",
       "[1 rows x 24 columns]"
      ]
     },
     "execution_count": 17,
     "metadata": {},
     "output_type": "execute_result"
    }
   ],
   "source": [
    "df"
   ]
  },
  {
   "cell_type": "code",
   "execution_count": 18,
   "metadata": {},
   "outputs": [],
   "source": [
    "df = df.drop(['index','Nation','Pos','Age','90s','FK','PK','PKatt','Matches'],axis=1)"
   ]
  },
  {
   "cell_type": "code",
   "execution_count": 19,
   "metadata": {},
   "outputs": [
    {
     "data": {
      "text/html": [
       "<div>\n",
       "<style scoped>\n",
       "    .dataframe tbody tr th:only-of-type {\n",
       "        vertical-align: middle;\n",
       "    }\n",
       "\n",
       "    .dataframe tbody tr th {\n",
       "        vertical-align: top;\n",
       "    }\n",
       "\n",
       "    .dataframe thead th {\n",
       "        text-align: right;\n",
       "    }\n",
       "</style>\n",
       "<table border=\"1\" class=\"dataframe\">\n",
       "  <thead>\n",
       "    <tr style=\"text-align: right;\">\n",
       "      <th></th>\n",
       "      <th>Player</th>\n",
       "      <th>Gls</th>\n",
       "      <th>Sh</th>\n",
       "      <th>SoT</th>\n",
       "      <th>SoT%</th>\n",
       "      <th>Sh/90</th>\n",
       "      <th>SoT/90</th>\n",
       "      <th>G/Sh</th>\n",
       "      <th>G/SoT</th>\n",
       "      <th>Dist</th>\n",
       "      <th>xG</th>\n",
       "      <th>npxG</th>\n",
       "      <th>npxG/Sh</th>\n",
       "      <th>G-xG</th>\n",
       "      <th>np:G-xG</th>\n",
       "    </tr>\n",
       "  </thead>\n",
       "  <tbody>\n",
       "    <tr>\n",
       "      <th>0</th>\n",
       "      <td>Jack Grealish</td>\n",
       "      <td>1</td>\n",
       "      <td>5</td>\n",
       "      <td>2</td>\n",
       "      <td>40.0</td>\n",
       "      <td>1.42</td>\n",
       "      <td>0.57</td>\n",
       "      <td>0.2</td>\n",
       "      <td>0.5</td>\n",
       "      <td>14.2</td>\n",
       "      <td>0.8</td>\n",
       "      <td>0.8</td>\n",
       "      <td>0.16</td>\n",
       "      <td>0.2</td>\n",
       "      <td>0.2</td>\n",
       "    </tr>\n",
       "  </tbody>\n",
       "</table>\n",
       "</div>"
      ],
      "text/plain": [
       "          Player  Gls  Sh  SoT  SoT%  Sh/90  SoT/90  G/Sh  G/SoT  Dist   xG  \\\n",
       "0  Jack Grealish    1   5    2  40.0   1.42    0.57   0.2    0.5  14.2  0.8   \n",
       "\n",
       "   npxG  npxG/Sh  G-xG  np:G-xG  \n",
       "0   0.8     0.16   0.2      0.2  "
      ]
     },
     "execution_count": 19,
     "metadata": {},
     "output_type": "execute_result"
    }
   ],
   "source": [
    "df"
   ]
  },
  {
   "cell_type": "code",
   "execution_count": 20,
   "metadata": {},
   "outputs": [
    {
     "data": {
      "text/plain": [
       "['Gls',\n",
       " 'Sh',\n",
       " 'SoT',\n",
       " 'SoT%',\n",
       " 'Sh/90',\n",
       " 'SoT/90',\n",
       " 'G/Sh',\n",
       " 'G/SoT',\n",
       " 'Dist',\n",
       " 'xG',\n",
       " 'npxG',\n",
       " 'npxG/Sh',\n",
       " 'G-xG',\n",
       " 'np:G-xG']"
      ]
     },
     "execution_count": 20,
     "metadata": {},
     "output_type": "execute_result"
    }
   ],
   "source": [
    "#get parameters\n",
    "params = list(df.columns)\n",
    "params = params[1:]\n",
    "params"
   ]
  },
  {
   "cell_type": "code",
   "execution_count": 31,
   "metadata": {},
   "outputs": [],
   "source": [
    "#add ranges to list of tuple pairs\n",
    "ranges = []\n",
    "b_values = []\n",
    "\n",
    "for x in params:\n",
    "    b = max(df[params][x])\n",
    "    b = b + (b*.25)\n",
    "    \n",
    "    ranges.append((b))\n",
    "    \n",
    "for x in range(len(df['Player'])):\n",
    "    if df['Player'][x] == 'Jack Grealish':\n",
    "        b_values = df.iloc[x].values.tolist()\n",
    "        \n",
    "b_values = b_values[1:]\n",
    "\n",
    "values = b_values"
   ]
  },
  {
   "cell_type": "code",
   "execution_count": 35,
   "metadata": {},
   "outputs": [
    {
     "data": {
      "text/plain": [
       "[1, 5, 2, 40.0, 1.42, 0.57, 0.2, 0.5, 14.2, 0.8, 0.8, 0.16, 0.2, 0.2]"
      ]
     },
     "execution_count": 35,
     "metadata": {},
     "output_type": "execute_result"
    }
   ],
   "source": [
    "values"
   ]
  },
  {
   "cell_type": "code",
   "execution_count": 36,
   "metadata": {},
   "outputs": [],
   "source": [
    "#title \n",
    "title = dict(\n",
    "  title_name='Jack Grealish',\n",
    "  title_color='#3282b8',\n",
    "  subtitle_name=\"Man City\",\n",
    "  subtitle_color='#ABCDEF',\n",
    "  title_fontsize=18,\n",
    "  subtitle_fontsize=15\n",
    ")\n",
    "\n",
    "endnote = '@cityzens\\ndata via FBREF / Statsbomb'"
   ]
  },
  {
   "cell_type": "code",
   "execution_count": 39,
   "metadata": {},
   "outputs": [
    {
     "ename": "TypeError",
     "evalue": "'float' object is not subscriptable",
     "output_type": "error",
     "traceback": [
      "\u001b[0;31m---------------------------------------------------------------------------\u001b[0m",
      "\u001b[0;31mTypeError\u001b[0m                                 Traceback (most recent call last)",
      "\u001b[1;32mセル14 を /home/ikmz/city/analyze/code/Radars/Shooting.ipynb\u001b[0m in \u001b[0;36m<cell line: 10>\u001b[0;34m()\u001b[0m\n\u001b[1;32m      <a href='vscode-notebook-cell://wsl%2Bubuntu-20.04/home/ikmz/city/analyze/code/Radars/Shooting.ipynb#X16sdnNjb2RlLXJlbW90ZQ%3D%3D?line=0'>1</a>\u001b[0m radar \u001b[39m=\u001b[39m Radar(\n\u001b[1;32m      <a href='vscode-notebook-cell://wsl%2Bubuntu-20.04/home/ikmz/city/analyze/code/Radars/Shooting.ipynb#X16sdnNjb2RlLXJlbW90ZQ%3D%3D?line=1'>2</a>\u001b[0m   label_fontsize\u001b[39m=\u001b[39m\u001b[39m12\u001b[39m,\n\u001b[1;32m      <a href='vscode-notebook-cell://wsl%2Bubuntu-20.04/home/ikmz/city/analyze/code/Radars/Shooting.ipynb#X16sdnNjb2RlLXJlbW90ZQ%3D%3D?line=2'>3</a>\u001b[0m   range_fontsize\u001b[39m=\u001b[39m\u001b[39m7.5\u001b[39m,\n\u001b[0;32m   (...)\u001b[0m\n\u001b[1;32m      <a href='vscode-notebook-cell://wsl%2Bubuntu-20.04/home/ikmz/city/analyze/code/Radars/Shooting.ipynb#X16sdnNjb2RlLXJlbW90ZQ%3D%3D?line=6'>7</a>\u001b[0m   range_color\u001b[39m=\u001b[39m\u001b[39m\"\u001b[39m\u001b[39m#FFFFFF\u001b[39m\u001b[39m\"\u001b[39m\n\u001b[1;32m      <a href='vscode-notebook-cell://wsl%2Bubuntu-20.04/home/ikmz/city/analyze/code/Radars/Shooting.ipynb#X16sdnNjb2RlLXJlbW90ZQ%3D%3D?line=7'>8</a>\u001b[0m )\n\u001b[0;32m---> <a href='vscode-notebook-cell://wsl%2Bubuntu-20.04/home/ikmz/city/analyze/code/Radars/Shooting.ipynb#X16sdnNjb2RlLXJlbW90ZQ%3D%3D?line=9'>10</a>\u001b[0m fig,ax \u001b[39m=\u001b[39m radar\u001b[39m.\u001b[39;49mplot_radar(\n\u001b[1;32m     <a href='vscode-notebook-cell://wsl%2Bubuntu-20.04/home/ikmz/city/analyze/code/Radars/Shooting.ipynb#X16sdnNjb2RlLXJlbW90ZQ%3D%3D?line=10'>11</a>\u001b[0m   ranges\u001b[39m=\u001b[39;49mranges,\n\u001b[1;32m     <a href='vscode-notebook-cell://wsl%2Bubuntu-20.04/home/ikmz/city/analyze/code/Radars/Shooting.ipynb#X16sdnNjb2RlLXJlbW90ZQ%3D%3D?line=11'>12</a>\u001b[0m   params\u001b[39m=\u001b[39;49mparams,\n\u001b[1;32m     <a href='vscode-notebook-cell://wsl%2Bubuntu-20.04/home/ikmz/city/analyze/code/Radars/Shooting.ipynb#X16sdnNjb2RlLXJlbW90ZQ%3D%3D?line=12'>13</a>\u001b[0m   values\u001b[39m=\u001b[39;49mvalues,\n\u001b[1;32m     <a href='vscode-notebook-cell://wsl%2Bubuntu-20.04/home/ikmz/city/analyze/code/Radars/Shooting.ipynb#X16sdnNjb2RlLXJlbW90ZQ%3D%3D?line=13'>14</a>\u001b[0m   radar_color\u001b[39m=\u001b[39;49m[\u001b[39m'\u001b[39;49m\u001b[39m#3282b8\u001b[39;49m\u001b[39m'\u001b[39;49m],\n\u001b[1;32m     <a href='vscode-notebook-cell://wsl%2Bubuntu-20.04/home/ikmz/city/analyze/code/Radars/Shooting.ipynb#X16sdnNjb2RlLXJlbW90ZQ%3D%3D?line=14'>15</a>\u001b[0m   alphas\u001b[39m=\u001b[39;49m[\u001b[39m.75\u001b[39;49m],\n\u001b[1;32m     <a href='vscode-notebook-cell://wsl%2Bubuntu-20.04/home/ikmz/city/analyze/code/Radars/Shooting.ipynb#X16sdnNjb2RlLXJlbW90ZQ%3D%3D?line=15'>16</a>\u001b[0m   title\u001b[39m=\u001b[39;49mtitle,\n\u001b[1;32m     <a href='vscode-notebook-cell://wsl%2Bubuntu-20.04/home/ikmz/city/analyze/code/Radars/Shooting.ipynb#X16sdnNjb2RlLXJlbW90ZQ%3D%3D?line=16'>17</a>\u001b[0m   image\u001b[39m=\u001b[39;49m\u001b[39m'\u001b[39;49m\u001b[39m../../images/mancitylogo.png\u001b[39;49m\u001b[39m'\u001b[39;49m,\n\u001b[1;32m     <a href='vscode-notebook-cell://wsl%2Bubuntu-20.04/home/ikmz/city/analyze/code/Radars/Shooting.ipynb#X16sdnNjb2RlLXJlbW90ZQ%3D%3D?line=17'>18</a>\u001b[0m   image_coord\u001b[39m=\u001b[39;49m[\u001b[39m0.04\u001b[39;49m, \u001b[39m0.1\u001b[39;49m],\n\u001b[1;32m     <a href='vscode-notebook-cell://wsl%2Bubuntu-20.04/home/ikmz/city/analyze/code/Radars/Shooting.ipynb#X16sdnNjb2RlLXJlbW90ZQ%3D%3D?line=18'>19</a>\u001b[0m   compare\u001b[39m=\u001b[39;49m\u001b[39mFalse\u001b[39;49;00m,\n\u001b[1;32m     <a href='vscode-notebook-cell://wsl%2Bubuntu-20.04/home/ikmz/city/analyze/code/Radars/Shooting.ipynb#X16sdnNjb2RlLXJlbW90ZQ%3D%3D?line=19'>20</a>\u001b[0m   filename\u001b[39m=\u001b[39;49m\u001b[39m\"\u001b[39;49m\u001b[39m../../output/Radars/shooting.jpg\u001b[39;49m\u001b[39m\"\u001b[39;49m,\n\u001b[1;32m     <a href='vscode-notebook-cell://wsl%2Bubuntu-20.04/home/ikmz/city/analyze/code/Radars/Shooting.ipynb#X16sdnNjb2RlLXJlbW90ZQ%3D%3D?line=20'>21</a>\u001b[0m   endnote\u001b[39m=\u001b[39;49mendnote,\n\u001b[1;32m     <a href='vscode-notebook-cell://wsl%2Bubuntu-20.04/home/ikmz/city/analyze/code/Radars/Shooting.ipynb#X16sdnNjb2RlLXJlbW90ZQ%3D%3D?line=21'>22</a>\u001b[0m )\n",
      "File \u001b[0;32m~/.local/lib/python3.8/site-packages/soccerplots/radar_chart.py:104\u001b[0m, in \u001b[0;36mRadar.plot_radar\u001b[0;34m(self, ranges, params, values, radar_color, filename, dpi, title, alphas, compare, endnote, end_size, end_color, image, image_coord, figax, **kwargs)\u001b[0m\n\u001b[1;32m    101\u001b[0m ax \u001b[39m=\u001b[39m \u001b[39mself\u001b[39m\u001b[39m.\u001b[39m__add_labels(params\u001b[39m=\u001b[39mparams, ax\u001b[39m=\u001b[39max)\n\u001b[1;32m    103\u001b[0m \u001b[39m## add ranges\u001b[39;00m\n\u001b[0;32m--> 104\u001b[0m ax, xy, range_values \u001b[39m=\u001b[39m \u001b[39mself\u001b[39;49m\u001b[39m.\u001b[39;49m__add_ranges(ranges\u001b[39m=\u001b[39;49mranges, ax\u001b[39m=\u001b[39;49max,)\n\u001b[1;32m    106\u001b[0m \u001b[39mif\u001b[39;00m compare \u001b[39m==\u001b[39m \u001b[39mTrue\u001b[39;00m:\n\u001b[1;32m    107\u001b[0m     \u001b[39m## for making comparison radar charts\u001b[39;00m\n\u001b[1;32m    109\u001b[0m     \u001b[39mfor\u001b[39;00m i \u001b[39min\u001b[39;00m \u001b[39mrange\u001b[39m(\u001b[39mlen\u001b[39m(values)):\n\u001b[1;32m    110\u001b[0m         \u001b[39m## fetch value\u001b[39;00m\n",
      "File \u001b[0;32m~/.local/lib/python3.8/site-packages/soccerplots/radar_chart.py:344\u001b[0m, in \u001b[0;36mRadar.__add_ranges\u001b[0;34m(self, ranges, ax)\u001b[0m\n\u001b[1;32m    341\u001b[0m range_values \u001b[39m=\u001b[39m np\u001b[39m.\u001b[39marray([])\n\u001b[1;32m    343\u001b[0m \u001b[39mfor\u001b[39;00m rng \u001b[39min\u001b[39;00m ranges:\n\u001b[0;32m--> 344\u001b[0m     value \u001b[39m=\u001b[39m np\u001b[39m.\u001b[39mlinspace(start\u001b[39m=\u001b[39mrng[\u001b[39m0\u001b[39;49m], stop\u001b[39m=\u001b[39mrng[\u001b[39m1\u001b[39m], num\u001b[39m=\u001b[39m\u001b[39m10\u001b[39m)\n\u001b[1;32m    345\u001b[0m     range_values \u001b[39m=\u001b[39m np\u001b[39m.\u001b[39mappend(range_values, value)\n\u001b[1;32m    347\u001b[0m range_values \u001b[39m=\u001b[39m range_values\u001b[39m.\u001b[39mreshape((\u001b[39mlen\u001b[39m(ranges),\u001b[39m10\u001b[39m))\n",
      "\u001b[0;31mTypeError\u001b[0m: 'float' object is not subscriptable"
     ]
    },
    {
     "data": {
      "image/png": "[encoded data removed]",
      "text/plain": [
       "<Figure size 1440x720 with 1 Axes>"
      ]
     },
     "metadata": {},
     "output_type": "display_data"
    }
   ],
   "source": [
    "radar = Radar(\n",
    "  label_fontsize=12,\n",
    "  range_fontsize=7.5,\n",
    "  background_color=\"#121212\",\n",
    "  patch_color=\"#28252C\",\n",
    "  label_color=\"#FFFFFF\",\n",
    "  range_color=\"#FFFFFF\"\n",
    ")\n",
    "\n",
    "fig,ax = radar.plot_radar(\n",
    "  ranges=ranges,\n",
    "  params=params,\n",
    "  values=values,\n",
    "  radar_color=['#3282b8'],\n",
    "  alphas=[.75],\n",
    "  title=title,\n",
    "  image='../../images/mancitylogo.png',\n",
    "  image_coord=[0.04, 0.1],\n",
    "  compare=False,\n",
    "  filename=\"../../output/Radars/shooting.jpg\",\n",
    "  endnote=endnote,\n",
    ")"
   ]
  },
  {
   "cell_type": "code",
   "execution_count": null,
   "metadata": {},
   "outputs": [],
   "source": []
  },
  {
   "cell_type": "code",
   "execution_count": null,
   "metadata": {},
   "outputs": [],
   "source": []
  },
  {
   "cell_type": "code",
   "execution_count": null,
   "metadata": {},
   "outputs": [],
   "source": []
  },
  {
   "cell_type": "code",
   "execution_count": null,
   "metadata": {},
   "outputs": [],
   "source": []
  },
  {
   "cell_type": "code",
   "execution_count": null,
   "metadata": {},
   "outputs": [],
   "source": []
  },
  {
   "cell_type": "code",
   "execution_count": null,
   "metadata": {},
   "outputs": [],
   "source": []
  },
  {
   "cell_type": "code",
   "execution_count": null,
   "metadata": {},
   "outputs": [],
   "source": []
  },
  {
   "cell_type": "code",
   "execution_count": null,
   "metadata": {},
   "outputs": [],
   "source": []
  },
  {
   "cell_type": "code",
   "execution_count": null,
   "metadata": {},
   "outputs": [],
   "source": []
  }
 ],
 "metadata": {
  "kernelspec": {
   "display_name": "Python 3.8.10 64-bit",
   "language": "python",
   "name": "python3"
  },
  "language_info": {
   "codemirror_mode": {
    "name": "ipython",
    "version": 3
   },
   "file_extension": ".py",
   "mimetype": "text/x-python",
   "name": "python",
   "nbconvert_exporter": "python",
   "pygments_lexer": "ipython3",
   "version": "3.8.10"
  },
  "vscode": {
   "interpreter": {
    "hash": "916dbcbb3f70747c44a77c7bcd40155683ae19c65e1c03b4aa3499c5328201f1"
   }
  }
 },
 "nbformat": 4,
 "nbformat_minor": 4
}
