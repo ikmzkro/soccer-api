{
 "cells": [
  {
   "cell_type": "code",
   "execution_count": 1,
   "metadata": {},
   "outputs": [],
   "source": [
    "import pandas as pd\n",
    "import time\n",
    "import re\n",
    "import tweepy\n",
    "import requests\n",
    "from bs4 import BeautifulSoup\n",
    "from types import MappingProxyType\n",
    "import datetime\n",
    "import math\n",
    "import random"
   ]
  },
  {
   "cell_type": "code",
   "execution_count": 2,
   "metadata": {},
   "outputs": [
    {
     "name": "stdout",
     "output_type": "stream",
     "text": [
      "[<p><strong>Stefan Ortega Moreno</strong></p>, <p><strong>Position:</strong> GK ▪  <strong>Footed:</strong> Right</p>, <p><span>186cm</span>, <span>87kg</span> (6-1, 194lb)</p>, <p>\n",
      "<strong>Born:</strong>\n",
      "<span data-birth=\"1992-11-06\" id=\"necro-birth\">\n",
      "    November 6, 1992\n",
      "    </span>\n",
      "<span>\n",
      "    \n",
      "      in Calden, Germany\n",
      "    \n",
      "  </span>\n",
      "<span class=\"f-i\" style=\"background-image:url('https://cdn.ssref.net/req/202404231/flags/de-1992.svg'); \">de</span>\n",
      "</p>, <p><strong>Citizenship:</strong> <a href=\"/en/country/GER/Germany-Football\">Germany</a> <span class=\"f-i f-de\" style=\"\">de</span></p>, <p><strong>Club:</strong> <a href=\"/en/squads/b8fd03ef/Manchester-City-Stats\">Manchester City</a></p>, <p> <strong>Wages</strong>: \n",
      "    <a href=\"#all_wages\" style=\"text-decoration: none\">\n",
      "<span class=\"important poptip\" data-tip=\"    \n",
      "    &lt;strong&gt;Wages in Pounds:&lt;/strong&gt;\n",
      "    &lt;br&gt;Annual: £ 2,860,000. Weekly: £ 55,000&lt;br&gt;\n",
      "    &lt;strong&gt;Wages in Euros:&lt;/strong&gt;\n",
      "    &lt;br&gt;Annual: € 3,323,277. Weekly: € 63,909&lt;br&gt;\n",
      "    &lt;strong&gt;Wages in Dollars:&lt;/strong&gt;\n",
      "    &lt;br&gt;Annual: $3,543,093. Weekly: $68,136\n",
      "\"><span style=\"color:#932a12\">￡ 55,000 Weekly</span></span>\n",
      "</a>\n",
      "        Expires June 2025. Via <a href=\"https://www.capology.com\" rel=\"nofollow noopener\" target=\"_blank\">Capology</a>.\n",
      "    </p>]\n"
     ]
    }
   ],
   "source": [
    "# 対象ページ\n",
    "url = 'https://fbref.com/en/squads/ef4d93b3/Vegalta-Sendai-Stats'\n",
    "\n",
    "# スクレイピング\n",
    "top_r = requests.get(url)\n",
    "\n",
    "# HTMLを解析する\n",
    "top_soup = BeautifulSoup(top_r.content, \"html.parser\")\n",
    "\n",
    "# 選手情報を取得\n",
    "td_list = top_soup.find\\\n",
    "        ('div', id='meta').find_all('p')\n",
    "\n",
    "print(td_list)"
   ]
  },
  {
   "cell_type": "code",
   "execution_count": null,
   "metadata": {},
   "outputs": [],
   "source": []
  }
 ],
 "metadata": {
  "kernelspec": {
   "display_name": "Python 3 (ipykernel)",
   "language": "python",
   "name": "python3"
  },
  "language_info": {
   "codemirror_mode": {
    "name": "ipython",
    "version": 3
   },
   "file_extension": ".py",
   "mimetype": "text/x-python",
   "name": "python",
   "nbconvert_exporter": "python",
   "pygments_lexer": "ipython3",
   "version": "3.8.10"
  }
 },
 "nbformat": 4,
 "nbformat_minor": 4
}
