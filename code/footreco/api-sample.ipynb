{
 "cells": [
  {
   "cell_type": "code",
   "execution_count": 1,
   "metadata": {},
   "outputs": [],
   "source": [
    "import pandas as pd\n",
    "import time\n",
    "import re\n",
    "import tweepy\n",
    "import requests\n",
    "from bs4 import BeautifulSoup\n",
    "from types import MappingProxyType\n",
    "import datetime\n",
    "import math\n",
    "import random"
   ]
  },
  {
   "cell_type": "code",
   "execution_count": 3,
   "metadata": {},
   "outputs": [
    {
     "name": "stdout",
     "output_type": "stream",
     "text": [
      "[<p>\n",
      "<strong>Record:</strong>\n",
      "    4-5-3, \n",
      "    17 points\n",
      "    (1.42 per game),\n",
      "    11th\n",
      "    in <a href=\"/en/comps/49/J2-League-Stats\">J2 League</a>\n",
      "    \n",
      "        (2nd Tier)\n",
      "    \n",
      "    </p>, <p>\n",
      "<strong>Home Record:</strong> \n",
      "    2-2-2, \n",
      "    8 points\n",
      "    \n",
      "    <strong>Away Record:</strong>\n",
      "    2-3-1, \n",
      "    9 points\n",
      "    </p>, <p><a href=\"/en/squads/ef4d93b3/2024/goallogs/all_comps/Vegalta-Sendai-Goal-Logs-All-Competitions\"><strong>Goals</strong></a>: 12 (1.00 per game), \n",
      "        <a href=\"/en/squads/ef4d93b3/2024/goallogs/all_comps/Vegalta-Sendai-Goal-Logs-All-Competitions\"><strong>Goals Against</strong></a>: 11 (0.92 per game),\n",
      "        <strong>Diff:</strong> 1</p>, <p><strong>Last Match:</strong> Loss 0–2 <a href=\"/en/matches/90e2bc69/Vegalta-Sendai-JEF-United-Chiba-April-27-2024-J2-League\">vs JEF United Chiba</a></p>, <p><strong>Next Match:</strong> Friday, May 3 <a href=\"/en/stathead/matchup/teams/ef4d93b3/21bf1e40/Vegalta-Sendai-vs-Renofa-Yamaguchi-History\">vs Renofa Yamaguchi</a></p>, <p><strong>Manager:</strong> Yoshirō Moriyama</p>, <p><strong>Governing Country:</strong>\n",
      "<a href=\"/en/country/JPN/Japan-Football\">Japan</a>\n",
      "<span class=\"f-i f-jp\" style=\"\">jp</span></p>, <p><strong>Gender</strong>: Male</p>]\n"
     ]
    }
   ],
   "source": [
    "# 対象ページ\n",
    "url = 'https://fbref.com/en/squads/ef4d93b3/Vegalta-Sendai-Stats'\n",
    "\n",
    "# スクレイピング\n",
    "top_r = requests.get(url)\n",
    "\n",
    "# HTMLを解析する\n",
    "top_soup = BeautifulSoup(top_r.content, \"html.parser\")\n",
    "\n",
    "# 選手情報を取得\n",
    "td_list = top_soup.find\\\n",
    "        ('div', id='meta').find_all('p')\n",
    "\n",
    "print(td_list)"
   ]
  },
  {
   "cell_type": "code",
   "execution_count": null,
   "metadata": {},
   "outputs": [],
   "source": []
  }
 ],
 "metadata": {
  "kernelspec": {
   "display_name": "Python 3 (ipykernel)",
   "language": "python",
   "name": "python3"
  },
  "language_info": {
   "codemirror_mode": {
    "name": "ipython",
    "version": 3
   },
   "file_extension": ".py",
   "mimetype": "text/x-python",
   "name": "python",
   "nbconvert_exporter": "python",
   "pygments_lexer": "ipython3",
   "version": "3.8.10"
  }
 },
 "nbformat": 4,
 "nbformat_minor": 4
}
