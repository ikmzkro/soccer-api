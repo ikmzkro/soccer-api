{
 "cells": [
  {
   "cell_type": "code",
   "execution_count": 11,
   "metadata": {},
   "outputs": [
    {
     "name": "stdout",
     "output_type": "stream",
     "text": [
      "gundogan8!!!!\n"
     ]
    }
   ],
   "source": [
    "print('gundogan8!!!!')"
   ]
  },
  {
   "cell_type": "code",
   "execution_count": 12,
   "metadata": {},
   "outputs": [],
   "source": [
    "import pandas as pd\n",
    "import time\n",
    "import re\n",
    "import tweepy\n",
    "import requests\n",
    "from bs4 import BeautifulSoup\n",
    "from types import MappingProxyType\n",
    "import datetime"
   ]
  },
  {
   "cell_type": "code",
   "execution_count": 13,
   "metadata": {},
   "outputs": [
    {
     "name": "stdout",
     "output_type": "stream",
     "text": [
      "2023-01-04 00:19:37.015341 20230104 Wed\n"
     ]
    }
   ],
   "source": [
    "nowaday = datetime.datetime.now() # 現在時刻の取得\n",
    "yyyymmdd = nowaday.strftime(\"%Y%m%d\")\n",
    "yyyymmdd_week = nowaday.strftime(\"%a\")\n",
    "\n",
    "print(nowaday, yyyymmdd, yyyymmdd_week)"
   ]
  },
  {
   "cell_type": "code",
   "execution_count": 14,
   "metadata": {},
   "outputs": [
    {
     "name": "stdout",
     "output_type": "stream",
     "text": [
      "2023-01-05 00:19:37.015341 20230105 Thu\n"
     ]
    }
   ],
   "source": [
    "tomorrow = nowaday + datetime.timedelta(1) # 操作後の日付取得\n",
    "yyyymmdd = tomorrow.strftime(\"%Y%m%d\")\n",
    "yyyymmdd_week = tomorrow.strftime(\"%a\")\n",
    "\n",
    "print(tomorrow, yyyymmdd, yyyymmdd_week)"
   ]
  },
  {
   "cell_type": "code",
   "execution_count": 16,
   "metadata": {},
   "outputs": [],
   "source": [
    "# 試合日程を入れるリスト\n",
    "match_day_list = []\n",
    "\n",
    "# スクレイピング対象のURL\n",
    "url = 'https://www.fotmob.com/teams/8456/fixtures/manchester-city'\n",
    "\n",
    "# スクレイピング\n",
    "top_r = requests.get(url)\n",
    "\n",
    "# HTMLを解析する\n",
    "top_soup = BeautifulSoup(top_r.content, \"html.parser\")\n",
    "# print(top_soup)"
   ]
  },
  {
   "cell_type": "code",
   "execution_count": 17,
   "metadata": {
    "scrolled": true
   },
   "outputs": [],
   "source": [
    "# 使えないけど有効\n",
    "links = [url.get('href') for url in top_soup.find_all('a')]\n",
    "# print(links)\n",
    "\n",
    "# anckerタグを抽出\n",
    "# date_list = top_soup.find('/match/3901068/matchfacts/leicester-city-vs-manchester-city')\n",
    "# print(date_list)"
   ]
  },
  {
   "cell_type": "code",
   "execution_count": 18,
   "metadata": {},
   "outputs": [
    {
     "name": "stdout",
     "output_type": "stream",
     "text": [
      "<!DOCTYPE html>\n",
      "\n",
      "<html class=\"js gr__cloudflarepreview_com\" lang=\"en-US\" style=\"opacity: 1; visibility: visible;\"><!--<![endif]--><head><meta content=\"text/html; charset=utf-8\" http-equiv=\"Content-Type\"/>\n",
      "<title>Access denied | Cloudflare</title>\n",
      "<meta content=\"IE=Edge,chrome=1\" http-equiv=\"X-UA-Compatible\"/>\n",
      "<meta content=\"noindex, nofollow\" name=\"robots\"/>\n",
      "<meta content=\"width=device-width,initial-scale=1,maximum-scale=1\" name=\"viewport\"/>\n",
      "</head>\n",
      "<body data-gr-c-s-loaded=\"true\">\n",
      "<div id=\"cf-wrapper\">\n",
      "<div class=\"cf-error-details-wrapper\" id=\"cf-error-details\">\n",
      "<div class=\"cf-wrapper cf-header cf-error-overview\">\n",
      "<h1>\n",
      "<span class=\"cf-error-type\" data-translate=\"error\">Error</span>\n",
      "<span class=\"cf-error-code\">1006</span>\n",
      "<small class=\"heading-ray-id\">Ray ID: 783cb7793865afc1</small>\n",
      "</h1>\n",
      "<h2 class=\"cf-subheadline\" data-translate=\"error_desc\">Access denied</h2>\n",
      "</div><!-- /.header -->\n",
      "<section></section><!-- spacer -->\n",
      "<div class=\"cf-section cf-wrapper\">\n",
      "<div class=\"cf-columns two\">\n",
      "<div class=\"cf-column\">\n",
      "<h2 data-translate=\"what_happened\">What happened?</h2>\n",
      "<p>The system identified you as a scraper and banned the IP. To use the data on the website contact the owner and request permission.\n",
      "          </p></div>\n",
      "</div>\n",
      "</div><!-- /.section -->\n",
      "<div class=\"cf-error-footer cf-wrapper\">\n",
      "<p>\n",
      "<span class=\"cf-footer-item\">Cloudflare Ray ID: <strong>783cb7793865afc1</strong></span>\n",
      "<span class=\"cf-footer-separator\">•</span>\n",
      "<span class=\"cf-footer-item\"><span data-translate=\"your_ip\">Your IP</span>: 126.51.176.221</span>\n",
      "<span class=\"cf-footer-separator\">•</span>\n",
      "<span class=\"cf-footer-item\"><span data-translate=\"performance_security_by\">Performance &amp; security by</span> <a data-orig-proto=\"https\" data-orig-ref=\"www.cloudflare.com/5xx-error-landing?utm_source=error_footer\" href=\"https://www.cloudflare.com/5xx-error-landing?utm_source=error_footer\" id=\"brand_link\" target=\"_blank\">Cloudflare</a></span>\n",
      "</p>\n",
      "</div><!-- /.error-footer -->\n",
      "</div><!-- /#cf-error-details -->\n",
      "</div><!-- /#cf-wrapper -->\n",
      "<script type=\"text/javascript\">\n",
      "//<![CDATA[\n",
      "window._cf_translation={};\n",
      "//]]>\n",
      "</script>\n",
      "</body><div></div></html>\n",
      "\n"
     ]
    }
   ],
   "source": [
    "# 対象を変更\n",
    "# スクレイピング対象のURL\n",
    "url_sofascore = 'https://www.sofascore.com/team/football/manchester-city/17'\n",
    "\n",
    "# スクレイピング\n",
    "top_r = requests.get(url_sofascore)\n",
    "\n",
    "# HTMLを解析する\n",
    "top_soup = BeautifulSoup(top_r.content, \"html.parser\")\n",
    "print(top_soup)"
   ]
  },
  {
   "cell_type": "code",
   "execution_count": 9,
   "metadata": {},
   "outputs": [],
   "source": [
    "elem = top_soup.find('p', attrs={ 'class': 'sc-hLBbgP sc-eDvSVe fBLrOx bbcOkn' })"
   ]
  },
  {
   "cell_type": "code",
   "execution_count": 10,
   "metadata": {},
   "outputs": [
    {
     "name": "stdout",
     "output_type": "stream",
     "text": [
      "None\n"
     ]
    }
   ],
   "source": [
    "print(elem)"
   ]
  },
  {
   "cell_type": "code",
   "execution_count": null,
   "metadata": {},
   "outputs": [],
   "source": []
  }
 ],
 "metadata": {
  "kernelspec": {
   "display_name": "Python 3 (ipykernel)",
   "language": "python",
   "name": "python3"
  },
  "language_info": {
   "codemirror_mode": {
    "name": "ipython",
    "version": 3
   },
   "file_extension": ".py",
   "mimetype": "text/x-python",
   "name": "python",
   "nbconvert_exporter": "python",
   "pygments_lexer": "ipython3",
   "version": "3.9.13"
  }
 },
 "nbformat": 4,
 "nbformat_minor": 4
}
